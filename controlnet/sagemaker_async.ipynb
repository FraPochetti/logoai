{
 "cells": [
  {
   "attachments": {},
   "cell_type": "markdown",
   "metadata": {},
   "source": [
    "# Amazon SageMaker Asynchronous Inference"
   ]
  },
  {
   "cell_type": "code",
   "execution_count": 1,
   "metadata": {},
   "outputs": [],
   "source": [
    "!pip install -U sagemaker --quiet\n",
    "!pip install -U boto3 --quiet\n",
    "!pip install -U awscli --quiet"
   ]
  },
  {
   "attachments": {},
   "cell_type": "markdown",
   "metadata": {},
   "source": [
    "Commands to run locally to test Docker container and inference logic\n",
    "```\n",
    "1. ./build_and_push_to_ecr.sh\n",
    "2. docker run --name controlserve --rm -it --gpus all controlnet serve\n",
    "3. (echo -n '{\"email\": \"fra.pochetti@gmail.com\", \"s3_location\": \"fra.pochetti_at_gmail.com/2023/5/5/5/5/output5\", \"img_id\": \"s3://visualneurons.com-logos/fra.pochetti_at_gmail.com/pytorch.png\"}') | curl -H \"Content-Type: application/json\" -d @-  http://172.17.0.2:8080/invocations\n",
    "```"
   ]
  },
  {
   "attachments": {},
   "cell_type": "markdown",
   "metadata": {},
   "source": [
    "#### Define AWS clients + IAM Role + resources names"
   ]
  },
  {
   "cell_type": "code",
   "execution_count": 4,
   "metadata": {},
   "outputs": [],
   "source": [
    "import sagemaker\n",
    "import boto3\n",
    "\n",
    "region_name = \"eu-west-1\"\n",
    "boto_session=boto3.Session(region_name=region_name)\n",
    "sm_session = sagemaker.Session(boto_session=boto_session)\n",
    "sm_client = boto_session.client(\"sagemaker\")\n",
    "sm_runtime = boto_session.client(\"sagemaker-runtime\")\n",
    "S3 = boto3.client('s3')\n",
    "autoscaling = boto3.client(\"application-autoscaling\", region_name=region_name)  # Common class representing Application Auto Scaling for SageMaker amongst other services"
   ]
  },
  {
   "cell_type": "code",
   "execution_count": 5,
   "metadata": {},
   "outputs": [
    {
     "name": "stdout",
     "output_type": "stream",
     "text": [
      "Using Role: arn:aws:iam::257446244580:role/sagemaker-icevision\n"
     ]
    }
   ],
   "source": [
    "sm_role = \"arn:aws:iam::257446244580:role/sagemaker-icevision\"\n",
    "print(f\"Using Role: {sm_role}\")"
   ]
  },
  {
   "cell_type": "code",
   "execution_count": 6,
   "metadata": {},
   "outputs": [],
   "source": [
    "resource_name = \"controlnet-logos\"\n",
    "\n",
    "suffix = \"g5-RGBA\"\n",
    "model_name = f\"{resource_name}-model-{suffix}\"\n",
    "endpoint_config_name = f\"{resource_name}-endpoint-config-{suffix}\"\n",
    "endpoint_name = f\"{resource_name}-endpoint\"\n",
    "resource_id = (\"endpoint/\" + endpoint_name + \"/variant/\" + \"variant1\") # for autoscaling purposes\n",
    "\n",
    "sm_output_bucket = \"visualneurons.com-logos-outputs\""
   ]
  },
  {
   "attachments": {},
   "cell_type": "markdown",
   "metadata": {},
   "source": [
    "#### Create model (assumes Docker image already built and uploaded to ECR)"
   ]
  },
  {
   "cell_type": "code",
   "execution_count": 7,
   "metadata": {},
   "outputs": [
    {
     "name": "stdout",
     "output_type": "stream",
     "text": [
      "Created Model: arn:aws:sagemaker:eu-west-1:257446244580:model/controlnet-logos-model-g5-rgba\n"
     ]
    }
   ],
   "source": [
    "create_model_response = sm_client.create_model(\n",
    "    ModelName=model_name,\n",
    "    ExecutionRoleArn=sm_role,\n",
    "    PrimaryContainer={\n",
    "        \"Image\": \"257446244580.dkr.ecr.eu-west-1.amazonaws.com/custom-images:controlnet\",\n",
    "    },\n",
    ")\n",
    "\n",
    "print(f\"Created Model: {create_model_response['ModelArn']}\")"
   ]
  },
  {
   "attachments": {},
   "cell_type": "markdown",
   "metadata": {},
   "source": [
    "#### Create endpoint config: here is where we tell SageMaker we want an async endpoint"
   ]
  },
  {
   "cell_type": "code",
   "execution_count": 8,
   "metadata": {},
   "outputs": [
    {
     "name": "stdout",
     "output_type": "stream",
     "text": [
      "Created EndpointConfig: arn:aws:sagemaker:eu-west-1:257446244580:endpoint-config/controlnet-logos-endpoint-config-g5-rgba\n"
     ]
    }
   ],
   "source": [
    "create_endpoint_config_response = sm_client.create_endpoint_config(\n",
    "    EndpointConfigName=endpoint_config_name,\n",
    "    ProductionVariants=[\n",
    "        {\n",
    "            \"VariantName\": \"variant1\",\n",
    "            \"ModelName\": model_name,\n",
    "            \"InstanceType\": \"ml.g5.2xlarge\",\n",
    "            \"InitialInstanceCount\": 1,\n",
    "        }\n",
    "    ],\n",
    "    AsyncInferenceConfig={\n",
    "        \"OutputConfig\": {\n",
    "            \"S3OutputPath\": f\"s3://{sm_output_bucket}/sagemaker_endpoint_output\",\n",
    "            # Optionally specify Amazon SNS topics\n",
    "            \"NotificationConfig\": {\n",
    "            #\"SuccessTopic\": \"arn:aws:sns:<aws-region>:<account-id>:<topic-name>\",\n",
    "            \"ErrorTopic\": \"arn:aws:sns:eu-west-1:257446244580:ControlNetErrorTopic\",\n",
    "            }\n",
    "        },\n",
    "        \"ClientConfig\": {\"MaxConcurrentInvocationsPerInstance\": 1},\n",
    "    },\n",
    ")\n",
    "print(f\"Created EndpointConfig: {create_endpoint_config_response['EndpointConfigArn']}\")"
   ]
  },
  {
   "attachments": {},
   "cell_type": "markdown",
   "metadata": {},
   "source": [
    "#### Create endpoint"
   ]
  },
  {
   "cell_type": "code",
   "execution_count": 6,
   "metadata": {},
   "outputs": [
    {
     "name": "stdout",
     "output_type": "stream",
     "text": [
      "Created Endpoint: arn:aws:sagemaker:eu-west-1:257446244580:endpoint/controlnet-logos-endpoint\n"
     ]
    }
   ],
   "source": [
    "create_endpoint_response = sm_client.create_endpoint(\n",
    "    EndpointName=endpoint_name, EndpointConfigName=endpoint_config_name\n",
    ")\n",
    "print(f\"Created Endpoint: {create_endpoint_response['EndpointArn']}\")"
   ]
  },
  {
   "attachments": {},
   "cell_type": "markdown",
   "metadata": {},
   "source": [
    "Validate that the endpoint is created before invoking it:"
   ]
  },
  {
   "cell_type": "code",
   "execution_count": 7,
   "metadata": {},
   "outputs": [
    {
     "name": "stdout",
     "output_type": "stream",
     "text": [
      "Waiting for endpoint to create...\n",
      "Endpoint Status: InService\n"
     ]
    }
   ],
   "source": [
    "waiter = sm_client.get_waiter(\"endpoint_in_service\")\n",
    "print(\"Waiting for endpoint to create...\")\n",
    "waiter.wait(EndpointName=endpoint_name)\n",
    "resp = sm_client.describe_endpoint(EndpointName=endpoint_name)\n",
    "print(f\"Endpoint Status: {resp['EndpointStatus']}\")"
   ]
  },
  {
   "attachments": {},
   "cell_type": "markdown",
   "metadata": {},
   "source": [
    "#### Setup AutoScaling policy: max 2 instances and min of 0 (no invocations -> no machines allocated to endpoint -> no money spent)"
   ]
  },
  {
   "cell_type": "code",
   "execution_count": 10,
   "metadata": {},
   "outputs": [],
   "source": [
    "# Configure Autoscaling on asynchronous endpoint down to zero instances\n",
    "response = autoscaling.register_scalable_target(\n",
    "    ServiceNamespace=\"sagemaker\",\n",
    "    ResourceId=resource_id,\n",
    "    ScalableDimension=\"sagemaker:variant:DesiredInstanceCount\",\n",
    "    MinCapacity=0,\n",
    "    MaxCapacity=2,\n",
    ")\n",
    "\n",
    "response = autoscaling.put_scaling_policy(\n",
    "    PolicyName=\"Invocations-ScalingPolicy\",\n",
    "    ServiceNamespace=\"sagemaker\",  # The namespace of the AWS service that provides the resource.\n",
    "    ResourceId=resource_id,  # Endpoint name\n",
    "    ScalableDimension=\"sagemaker:variant:DesiredInstanceCount\",  # SageMaker supports only Instance Count\n",
    "    PolicyType=\"TargetTrackingScaling\",  # 'StepScaling'|'TargetTrackingScaling'\n",
    "    TargetTrackingScalingPolicyConfiguration={\n",
    "        \"TargetValue\": 1.0,\n",
    "        \"CustomizedMetricSpecification\": {\n",
    "            \"MetricName\": \"ApproximateBacklogSizePerInstance\",\n",
    "            \"Namespace\": \"AWS/SageMaker\",\n",
    "            \"Dimensions\": [{\"Name\": \"EndpointName\", \"Value\": endpoint_name}],\n",
    "            \"Statistic\": \"Average\",\n",
    "        },\n",
    "        \"ScaleInCooldown\": 600,  # The cooldown period helps you prevent your Auto Scaling group from launching or terminating\n",
    "        # additional instances before the effects of previous activities are visible.\n",
    "        # You can configure the length of time based on your instance startup time or other application needs.\n",
    "        # ScaleInCooldown - The amount of time, in seconds, after a scale in activity completes before another scale in activity can start.\n",
    "        \"ScaleOutCooldown\": 300  # ScaleOutCooldown - The amount of time, in seconds, after a scale out activity completes before another scale out activity can start.\n",
    "        # 'DisableScaleIn': True|False - ndicates whether scale in by the target tracking policy is disabled.\n",
    "        # If the value is true , scale in is disabled and the target tracking policy won't remove capacity from the scalable resource.\n",
    "    },\n",
    ")"
   ]
  },
  {
   "cell_type": "code",
   "execution_count": 11,
   "metadata": {},
   "outputs": [],
   "source": [
    "response = autoscaling.put_scaling_policy(\n",
    "    PolicyName=\"HasBacklogWithoutCapacity-ScalingPolicy\",\n",
    "    ServiceNamespace=\"sagemaker\",  # The namespace of the service that provides the resource.\n",
    "    ResourceId=resource_id,  # Endpoint name\n",
    "    ScalableDimension=\"sagemaker:variant:DesiredInstanceCount\",  # SageMaker supports only Instance Count\n",
    "    PolicyType=\"StepScaling\",  # 'StepScaling' or 'TargetTrackingScaling'\n",
    "    StepScalingPolicyConfiguration={\n",
    "        \"AdjustmentType\": \"ChangeInCapacity\", # Specifies whether the ScalingAdjustment value in the StepAdjustment property is an absolute number or a percentage of the current capacity. \n",
    "        \"MetricAggregationType\": \"Average\", # The aggregation type for the CloudWatch metrics.\n",
    "        \"Cooldown\": 300, # The amount of time, in seconds, to wait for a previous scaling activity to take effect. \n",
    "        \"StepAdjustments\": # A set of adjustments that enable you to scale based on the size of the alarm breach.\n",
    "        [ \n",
    "            {\n",
    "              \"MetricIntervalLowerBound\": 0,\n",
    "              \"ScalingAdjustment\": 1\n",
    "            }\n",
    "          ]\n",
    "    },    \n",
    ")"
   ]
  },
  {
   "cell_type": "code",
   "execution_count": 12,
   "metadata": {},
   "outputs": [
    {
     "data": {
      "text/plain": [
       "{'PolicyARN': 'arn:aws:autoscaling:eu-west-1:257446244580:scalingPolicy:30e8b7ac-0b61-4a47-9d65-764d02eeccfb:resource/sagemaker/endpoint/controlnet-logos-endpoint/variant/variant1:policyName/HasBacklogWithoutCapacity-ScalingPolicy',\n",
       " 'Alarms': [],\n",
       " 'ResponseMetadata': {'RequestId': '94a406e0-fd59-4d89-b25c-40619d46895b',\n",
       "  'HTTPStatusCode': 200,\n",
       "  'HTTPHeaders': {'x-amzn-requestid': '94a406e0-fd59-4d89-b25c-40619d46895b',\n",
       "   'content-type': 'application/x-amz-json-1.1',\n",
       "   'content-length': '243',\n",
       "   'date': 'Sat, 13 May 2023 16:55:32 GMT'},\n",
       "  'RetryAttempts': 0}}"
      ]
     },
     "execution_count": 12,
     "metadata": {},
     "output_type": "execute_result"
    }
   ],
   "source": [
    "response"
   ]
  },
  {
   "attachments": {},
   "cell_type": "markdown",
   "metadata": {},
   "source": [
    "#### Setup CloudWatch alarm to wake the endpoint up after instances count has gone to 0"
   ]
  },
  {
   "cell_type": "code",
   "execution_count": 13,
   "metadata": {},
   "outputs": [],
   "source": [
    "cw_client = boto3.client(\"cloudwatch\", region_name=region_name)\n",
    "\n",
    "response = cw_client.put_metric_alarm(\n",
    "    AlarmName=\"HasBacklogWithoutCapacity-ScalingPolicy\",\n",
    "    MetricName='HasBacklogWithoutCapacity',\n",
    "    Namespace='AWS/SageMaker',\n",
    "    Statistic='Average',\n",
    "    EvaluationPeriods= 2,\n",
    "    DatapointsToAlarm= 2,\n",
    "    Threshold= 1,\n",
    "    ComparisonOperator='GreaterThanOrEqualToThreshold',\n",
    "    TreatMissingData='missing',\n",
    "    Dimensions=[\n",
    "        { 'Name':'EndpointName', 'Value':endpoint_name },\n",
    "    ],\n",
    "    Period= 60,\n",
    "    AlarmActions=['arn:aws:autoscaling:eu-west-1:257446244580:scalingPolicy:30e8b7ac-0b61-4a47-9d65-764d02eeccfb:resource/sagemaker/endpoint/controlnet-logos-endpoint/variant/variant1:policyName/HasBacklogWithoutCapacity-ScalingPolicy']\n",
    ")"
   ]
  },
  {
   "attachments": {},
   "cell_type": "markdown",
   "metadata": {},
   "source": [
    "#### Upload request payload"
   ]
  },
  {
   "cell_type": "code",
   "execution_count": 12,
   "metadata": {},
   "outputs": [],
   "source": [
    "import json\n",
    "\n",
    "def upload_file(json_name):\n",
    "    S3.upload_file(json_name, \n",
    "                   sm_output_bucket, \n",
    "                   f\"tests/{json_name}\",\n",
    "                   ExtraArgs={\"ContentType\": \"application/json\"},)\n",
    "    return f\"s3://{sm_output_bucket}/tests/{json_name}\""
   ]
  },
  {
   "cell_type": "code",
   "execution_count": 2,
   "metadata": {},
   "outputs": [],
   "source": [
    "s3_uri = \"s3://visualneurons.com-logos/fra.pochetti_at_gmail.com/pytorch.png\"\n",
    "email = \"fra.pochetti@gmail.com\"\n",
    "s3_location_to_save_results = \"fra.pochetti_at_gmail.com/2023/5/5/5/5/output5\"\n",
    "\n",
    "!aws s3 cp ./images/pytorch.png {s3_uri}\n",
    "\n",
    "data = {'img_id': s3_uri,\n",
    "        \"email\": email,\n",
    "        \"s3_location\": s3_location_to_save_results}\n",
    "\n",
    "with open(\"sagemaker_payload.json\", 'w', encoding='utf8') as f:\n",
    "    json.dump(data, f, ensure_ascii=False)\n",
    "    f.close()\n",
    "\n",
    "input_s3_location = upload_file(\"sagemaker_payload.json\")"
   ]
  },
  {
   "attachments": {},
   "cell_type": "markdown",
   "metadata": {},
   "source": [
    "#### Invoke Endpoint"
   ]
  },
  {
   "cell_type": "code",
   "execution_count": 14,
   "metadata": {},
   "outputs": [
    {
     "name": "stdout",
     "output_type": "stream",
     "text": [
      "OutputLocation: s3://visualneurons.com-logos-outputs/sagemaker_endpoint_output/80399913-883b-4ce9-aa9f-0e9f50eced93.out\n"
     ]
    }
   ],
   "source": [
    "response = sm_runtime.invoke_endpoint_async(\n",
    "    EndpointName=endpoint_name, InputLocation=input_s3_location\n",
    ")\n",
    "output_location = response[\"OutputLocation\"]\n",
    "print(f\"OutputLocation: {output_location}\")"
   ]
  },
  {
   "attachments": {},
   "cell_type": "markdown",
   "metadata": {},
   "source": [
    "#### Check Output Location"
   ]
  },
  {
   "attachments": {},
   "cell_type": "markdown",
   "metadata": {},
   "source": [
    "Check the output location to see if the inference has been processed. We make multiple requests (beginning of the `while True` statement in the `get_output` function) every two seconds until there is an output of the inference request: "
   ]
  },
  {
   "cell_type": "code",
   "execution_count": 21,
   "metadata": {},
   "outputs": [],
   "source": [
    "import urllib, time\n",
    "from botocore.exceptions import ClientError\n",
    "S3 = boto3.client('s3')\n",
    "\n",
    "\n",
    "def get_output(output_location):\n",
    "    output_url = urllib.parse.urlparse(output_location)\n",
    "    bucket = output_url.netloc\n",
    "    key = output_url.path[1:]\n",
    "\n",
    "    t_end = time.time() + 60 * 1\n",
    "    while time.time() < t_end:\n",
    "        try:\n",
    "            return S3.head_object(Bucket=bucket, Key=key) \n",
    "        except ClientError as e:\n",
    "            if e.response['Error']['Code'] == \"404\":\n",
    "                print(f\"Waiting for {output_location} to be available...\")\n",
    "                time.sleep(20)\n",
    "                continue\n",
    "            raise"
   ]
  },
  {
   "attachments": {},
   "cell_type": "markdown",
   "metadata": {},
   "source": [
    "#### Clean up"
   ]
  },
  {
   "attachments": {},
   "cell_type": "markdown",
   "metadata": {},
   "source": [
    "If you enabled auto-scaling for your endpoint, ensure you deregister the endpoint as a scalable target before deleting the endpoint. To do this, run the following:"
   ]
  },
  {
   "cell_type": "code",
   "execution_count": 14,
   "metadata": {},
   "outputs": [],
   "source": [
    "response = autoscaling.deregister_scalable_target(\n",
    "    ServiceNamespace=\"sagemaker\",\n",
    "    ResourceId=resource_id,\n",
    "    ScalableDimension=\"sagemaker:variant:DesiredInstanceCount\",\n",
    ")"
   ]
  },
  {
   "cell_type": "code",
   "execution_count": 15,
   "metadata": {},
   "outputs": [
    {
     "data": {
      "text/plain": [
       "{'ResponseMetadata': {'RequestId': 'dc26ad78-c705-4491-9139-bf35e4432ca2',\n",
       "  'HTTPStatusCode': 200,\n",
       "  'HTTPHeaders': {'x-amzn-requestid': 'dc26ad78-c705-4491-9139-bf35e4432ca2',\n",
       "   'content-type': 'application/x-amz-json-1.1',\n",
       "   'content-length': '0',\n",
       "   'date': 'Sat, 13 May 2023 18:02:09 GMT'},\n",
       "  'RetryAttempts': 0}}"
      ]
     },
     "execution_count": 15,
     "metadata": {},
     "output_type": "execute_result"
    }
   ],
   "source": [
    "sm_client.delete_model(ModelName=model_name)\n",
    "sm_client.delete_endpoint_config(EndpointConfigName=endpoint_config_name)\n",
    "sm_client.delete_endpoint(EndpointName=endpoint_name)"
   ]
  }
 ],
 "metadata": {
  "instance_type": "ml.t3.medium",
  "kernelspec": {
   "display_name": "control",
   "language": "python",
   "name": "python3"
  },
  "language_info": {
   "codemirror_mode": {
    "name": "ipython",
    "version": 3
   },
   "file_extension": ".py",
   "mimetype": "text/x-python",
   "name": "python",
   "nbconvert_exporter": "python",
   "pygments_lexer": "ipython3",
   "version": "3.8.5"
  }
 },
 "nbformat": 4,
 "nbformat_minor": 4
}
